{
  "cells": [
    {
      "cell_type": "code",
      "execution_count": null,
      "metadata": {},
      "outputs": [],
      "source": [
        "import sys\n",
        "sys.path.append('../')\n",
        "import torch\n",
        "from src.model import load_checkpoint\n",
        "from src.xai import XAIManager\n",
        "from utils import load_image, denormalize, plot_predictions\n",
        "import matplotlib.pyplot as plt\n",
        "\n",
        "# Загружаем модель\n",
        "device = 'cuda' if torch.cuda.is_available() else 'cpu'\n",
        "model = load_checkpoint(load_model(), '../models/brain_tumor_model.pth', device)\n",
        "xai_manager = XAIManager(model, device)\n",
        "classes = ['no_tumor', 'glioma', 'meningioma', 'pituitary']\n",
        "\n",
        "# Симулируем изображение (замени на реальный путь)\n",
        "# img_tensor = load_image('path/to/image.jpg').to(device)\n",
        "# Для демонстрации генерируем случайный тензор\n",
        "img_tensor = torch.randn(1, 3, 224, 224).to(device)\n",
        "\n",
        "# Предсказание\n",
        "with torch.no_grad():\n",
        "    output = model(img_tensor)\n",
        "    pred_class = output.argmax(dim=1).item()\n",
        "\n",
        "print(f\"Предсказанный класс: {classes[pred_class]}\")\n",
        "\n",
        "# Визуализация\n",
        "original_img = denormalize(img_tensor)\n",
        "plot_predictions(original_img, pred_class, classes)\n",
        "\n",
        "# XAI\n",
        "attributions = xai_manager.grad_cam(img_tensor, pred_class)\n",
        "xai_manager.visualize_explanations(original_img, attributions, 'gradcam')\n"
      ]
    }
  ],
  "metadata": {
    "language_info": {
      "name": "python"
    }
  },
  "nbformat": 4,
  "nbformat_minor": 2
}
