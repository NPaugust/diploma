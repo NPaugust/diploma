{
  "cells": [
    {
      "cell_type": "code",
      "execution_count": null,
      "metadata": {},
      "outputs": [],
      "source": [
        "import sys\n",
        "sys.path.append('../')\n",
        "import torch\n",
        "from back.core.model import load_checkpoint, load_model\n",
        "from back.core.xai import XAIManager\n",
        "from back.utils import load_image, denormalize, plot_predictions\n",
        "import matplotlib.pyplot as plt\n",
        "\n",
        "device = 'cuda' if torch.cuda.is_available() else 'cpu'\n",
        "model = load_checkpoint(load_model(), '../models/brain_tumor_model.pth', device)\n",
        "xai_manager = XAIManager(model, device)\n",
        "classes = ['no_tumor', 'glioma', 'meningioma', 'pituitary']\n",
        "\n",
        "img_tensor = torch.randn(1, 3, 224, 224).to(device)\n",
        "\n",
        "with torch.no_grad():\n",
        "    output = model(img_tensor)\n",
        "    pred_class = output.argmax(dim=1).item()\n",
        "\n",
        "print(f\"Predicted class: {classes[pred_class]}\")\n",
        "\n",
        "original_img = denormalize(img_tensor)\n",
        "plot_predictions(original_img, pred_class, classes)\n",
        "\n",
        "attributions = xai_manager.grad_cam(img_tensor, pred_class)\n",
        "xai_manager.visualize_explanations(original_img, attributions, 'gradcam')\n"
      ]
    }
  ],
  "metadata": {
    "language_info": {
      "name": "python"
    }
  },
  "nbformat": 4,
  "nbformat_minor": 2
}
