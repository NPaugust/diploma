{
  "cells": [
    {
      "cell_type": "code",
      "execution_count": null,
      "metadata": {},
      "outputs": [],
      "source": [
        "import sys\n",
        "sys.path.append('../')\n",
        "from src.train import train_model\n",
        "\n",
        "# Обучаем модель\n",
        "train_model('../data/raw', num_epochs=5, batch_size=16, learning_rate=0.001, num_samples=200)\n"
      ]
    }
  ],
  "metadata": {
    "language_info": {
      "name": "python"
    }
  },
  "nbformat": 4,
  "nbformat_minor": 2
}
