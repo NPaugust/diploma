{
  "cells": [
    {
      "cell_type": "code",
      "execution_count": null,
      "metadata": {},
      "outputs": [],
      "source": [
        "import sys\n",
        "sys.path.append('../')\n",
        "import torch\n",
        "from src.model import load_checkpoint\n",
        "from src.xai import XAIManager\n",
        "from src.dataset import BrainTumorDataset\n",
        "from torchvision import transforms\n",
        "import numpy as np\n",
        "import matplotlib.pyplot as plt\n",
        "from captum.attr import visualization as viz\n",
        "\n",
        "# Загружаем модель и датасет\n",
        "device = 'cuda' if torch.cuda.is_available() else 'cpu'\n",
        "model = load_checkpoint(load_model(), '../models/brain_tumor_model.pth', device)\n",
        "xai_manager = XAIManager(model, device)\n",
        "dataset = BrainTumorDataset('../data/raw', transforms.ToTensor(), num_samples=10)\n",
        "classes = ['no_tumor', 'glioma', 'meningioma', 'pituitary']\n",
        "\n",
        "# Тестируем на одном примере\n",
        "img, label = dataset[0]\n",
        "img = img.unsqueeze(0).to(device)\n",
        "\n",
        "# Предсказание\n",
        "with torch.no_grad():\n",
        "    output = model(img)\n",
        "    pred = output.argmax(dim=1).item()\n",
        "\n",
        "print(f\"Истинный класс: {classes[label]}, Предсказанный: {classes[pred]}\")\n",
        "\n",
        "# Grad-CAM\n",
        "attributions = xai_manager.grad_cam(img, pred)\n",
        "fig, ax = plt.subplots()\n",
        "viz.visualize_image_attr(attributions[0].cpu().numpy(), np.array(img.squeeze().permute(1,2,0)), method=\"heat_map\", show_colorbar=True, plt_fig_axis=(fig, ax))\n",
        "plt.show()\n"
      ]
    }
  ],
  "metadata": {
    "language_info": {
      "name": "python"
    }
  },
  "nbformat": 4,
  "nbformat_minor": 2
}
