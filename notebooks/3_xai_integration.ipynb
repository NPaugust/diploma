{
  "cells": [
    {
      "cell_type": "code",
      "execution_count": null,
      "metadata": {},
      "outputs": [],
      "source": [
        "import sys\n",
        "sys.path.append('../')\n",
        "import torch\n",
        "from back.core.model import load_checkpoint, load_model\n",
        "from back.core.xai import XAIManager\n",
        "from back.core.dataset import BrainTumorDataset\n",
        "from torchvision import transforms\n",
        "import numpy as np\n",
        "import matplotlib.pyplot as plt\n",
        "from captum.attr import visualization as viz\n",
        "\n",
        "device = 'cuda' if torch.cuda.is_available() else 'cpu'\n",
        "model = load_checkpoint(load_model(), '../models/brain_tumor_model.pth', device)\n",
        "xai_manager = XAIManager(model, device)\n",
        "dataset = BrainTumorDataset('../data/raw', transforms.ToTensor(), num_samples=10)\n",
        "classes = ['no_tumor', 'glioma', 'meningioma', 'pituitary']\n",
        "\n",
        "img, label = dataset[0]\n",
        "img = img.unsqueeze(0).to(device)\n",
        "\n",
        "with torch.no_grad():\n",
        "    output = model(img)\n",
        "    pred = output.argmax(dim=1).item()\n",
        "\n",
        "print(f\"True class: {classes[label]}, Predicted: {classes[pred]}\")\n",
        "\n",
        "attributions = xai_manager.grad_cam(img, pred)\n",
        "fig, ax = plt.subplots()\n",
        "viz.visualize_image_attr(attributions[0].detach().cpu().numpy(), np.array(img.squeeze().permute(1,2,0).cpu()), method=\"heat_map\", show_colorbar=True, plt_fig_axis=(fig, ax))\n",
        "plt.show()\n"
      ]
    }
  ],
  "metadata": {
    "language_info": {
      "name": "python"
    }
  },
  "nbformat": 4,
  "nbformat_minor": 2
}
