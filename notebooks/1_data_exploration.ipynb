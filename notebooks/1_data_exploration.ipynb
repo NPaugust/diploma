{
  "cells": [
    {
      "cell_type": "code",
      "execution_count": null,
      "metadata": {},
      "outputs": [],
      "source": [
        "import sys\n",
        "sys.path.append('../')\n",
        "from src.dataset import BrainTumorDataset\n",
        "from torchvision import transforms\n",
        "import matplotlib.pyplot as plt\n",
        "import numpy as np\n",
        "\n",
        "# Загружаем датасет\n",
        "transform = transforms.Compose([\n",
        "    transforms.Resize((128, 128)),\n",
        "    transforms.ToTensor(),\n",
        "])\n",
        "dataset = BrainTumorDataset('../data/raw', transform, num_samples=100)\n",
        "classes = ['no_tumor', 'glioma', 'meningioma', 'pituitary']\n",
        "\n",
        "# Визуализируем несколько примеров\n",
        "fig, axes = plt.subplots(2, 4, figsize=(12, 6))\n",
        "for i in range(8):\n",
        "    img, label = dataset[i]\n",
        "    ax = axes[i//4, i%4]\n",
        "    ax.imshow(img.permute(1, 2, 0))\n",
        "    ax.set_title(classes[label])\n",
        "    ax.axis('off')\n",
        "plt.tight_layout()\n",
        "plt.show()\n",
        "\n",
        "print(f\"Размер датасета: {len(dataset)}\")\n",
        "print(f\"Классы: {classes}\")\n"
      ]
    }
  ],
  "metadata": {
    "language_info": {
      "name": "python"
    }
  },
  "nbformat": 4,
  "nbformat_minor": 2
}
